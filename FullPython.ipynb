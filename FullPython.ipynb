{
  "nbformat": 4,
  "nbformat_minor": 0,
  "metadata": {
    "colab": {
      "provenance": [],
      "authorship_tag": "ABX9TyM8DCkB33cEiM5MS/hqS+xJ",
      "include_colab_link": true
    },
    "kernelspec": {
      "name": "python3",
      "display_name": "Python 3"
    },
    "language_info": {
      "name": "python"
    }
  },
  "cells": [
    {
      "cell_type": "markdown",
      "metadata": {
        "id": "view-in-github",
        "colab_type": "text"
      },
      "source": [
        "<a href=\"https://colab.research.google.com/github/TECHslugman/FirstProject/blob/main/FullPython.ipynb\" target=\"_parent\"><img src=\"https://colab.research.google.com/assets/colab-badge.svg\" alt=\"Open In Colab\"/></a>"
      ]
    },
    {
      "cell_type": "code",
      "execution_count": null,
      "metadata": {
        "colab": {
          "base_uri": "https://localhost:8080/"
        },
        "id": "0Wfh_eZ3bKdM",
        "outputId": "dbed4533-a77e-4b24-a249-fc95353ad08d"
      },
      "outputs": [
        {
          "output_type": "stream",
          "name": "stdout",
          "text": [
            "hi my name is pradeep pokhrel\n",
            "what is your name? Pradeep \n",
            "hello  Pradeep \n"
          ]
        }
      ],
      "source": [
        "8+ 10\n",
        "print(\"hi my name is pradeep pokhrel\")\n",
        "name = input (\"what is your name?\")\n",
        "print(\"hello \" + name)\n"
      ]
    },
    {
      "cell_type": "markdown",
      "source": [
        "## ***VARIABLES***"
      ],
      "metadata": {
        "id": "Zh1rBPO1nPap"
      }
    },
    {
      "cell_type": "code",
      "source": [
        "#Casting\n",
        "x = int(3)\n",
        "y = str (\"I have this\")\n",
        "z = float(50)\n",
        "print(x,y,z)\n",
        "#Know the data type\n",
        "print (type (x))\n",
        "print (type (y))\n",
        "print (type (z))\n",
        "'''\n",
        "Rules for variables:\n",
        "  Should be a letter or a underscore character\n",
        "  cannot start with a number\n",
        "  can only contain Alpha neumeric characters and underscores\n",
        "  Is case sensitive\n",
        "  Cannot be any of the Python keywords\n",
        "'''\n",
        "#Multiple values for the variables\n",
        "name, menu, order = \"Pradeep\", \"coffee\", \"black_coffee\"\n",
        "print(name, menu, order)\n",
        "#We can also add one value to multiple variables\n",
        "name = menu = order = \"pradeep coffee tea\"\n",
        "print(name)\n",
        "print(menu)\n",
        "print(order)\n",
        "#Unpacking the list\n",
        "orders = [\"apple pie, \", \"Green Tea, \", \"Ham,\", \"Milk\"]\n",
        "x,y,z,k = orders\n",
        "print(x)\n",
        "print(y)\n",
        "print(z)\n",
        "print(k)\n",
        "#Concatination\n",
        "print(x + y + z + k)\n",
        "#Global Variables: Variables that can be used inside and outside the functions\n",
        "x = \"This is a global variable\"\n",
        "print(\"can be used outside the function: \" + x)\n",
        "def InsideFunc():\n",
        "  x = \"Now this is a local variable\" #over writes the global variable with the local variable but the global variable will still remain as is\n",
        "  print(\"can also be used inside the function: \" + x)\n",
        "  print(\"Ths is the local variable with same variable name(x): \" + x)\n",
        "\n",
        "InsideFunc()\n",
        "print(\"Takes in the value of of the global variable since its outside function: \" + x)\n",
        "#Global Keyword: We can use the local variables as global variables using this keyword\n",
        "def MyFunc():\n",
        "  global x\n",
        "  x = 10\n",
        "MyFunc()\n",
        "\n",
        "print(\"The number is:\", x)\n"
      ],
      "metadata": {
        "id": "gc-_F_jfbqqe",
        "colab": {
          "base_uri": "https://localhost:8080/"
        },
        "outputId": "7ef93f5c-27cc-45a9-ab36-29d866b276b9"
      },
      "execution_count": 11,
      "outputs": [
        {
          "output_type": "stream",
          "name": "stdout",
          "text": [
            "3 I have this 50.0\n",
            "<class 'int'>\n",
            "<class 'str'>\n",
            "<class 'float'>\n",
            "Pradeep coffee black_coffee\n",
            "pradeep coffee tea\n",
            "pradeep coffee tea\n",
            "pradeep coffee tea\n",
            "apple pie, \n",
            "Green Tea, \n",
            "Ham,\n",
            "Milk\n",
            "apple pie, Green Tea, Ham,Milk\n",
            "can be used outside the function: This is a global variable\n",
            "can also be used inside the function: Now this is a local variable\n",
            "Ths is the local variable with same variable name(x): Now this is a local variable\n",
            "Takes in the value of of the global variable since its outside function: This is a global variable\n",
            "The number is: 10\n"
          ]
        }
      ]
    },
    {
      "cell_type": "markdown",
      "source": [
        "# ***Python Numbes***"
      ],
      "metadata": {
        "id": "911LlbFhDRBB"
      }
    },
    {
      "cell_type": "code",
      "source": [
        "#There are three numeric types of numbers\n",
        "# int\n",
        "# float\n",
        "# complex\n",
        "x = 1\n",
        "y = 1.0\n",
        "z = 1j\n",
        "print(x,y,z)\n",
        "#Type conversion\n",
        "x = 1\n",
        "y = 2.6\n",
        "z = 1j # Beaware that we cannot convert the complex numbers to any other numbers\n",
        "\n",
        "#Convert the types of numbers\n",
        "a = float(x)\n",
        "b = int (y)\n",
        "c = complex(x)\n",
        "\n",
        "print(a,b,c)\n",
        "\n",
        "#Random numbers\n",
        "import random\n",
        "print(random.randrange(1,10))\n",
        "print(random.randrange(1,1000))"
      ],
      "metadata": {
        "id": "yTSXTLNtDN3D",
        "colab": {
          "base_uri": "https://localhost:8080/"
        },
        "outputId": "c4a2d52a-cfaa-411a-ba6d-f7953ebaba7d"
      },
      "execution_count": 12,
      "outputs": [
        {
          "output_type": "stream",
          "name": "stdout",
          "text": [
            "1 1.0 1j\n",
            "1.0 2 (1+0j)\n",
            "1\n",
            "726\n"
          ]
        }
      ]
    },
    {
      "cell_type": "markdown",
      "source": [
        "# ***Python Casting and Python Strings***"
      ],
      "metadata": {
        "id": "gCCd-30VGecn"
      }
    },
    {
      "cell_type": "code",
      "source": [
        "#Casting\n",
        "x = float(1)\n",
        "y = int(2.8)\n",
        "z = int (\"3\")\n",
        "print(x,y,z)\n",
        "#Strings\n",
        "a = \"This beautiful things i got\"\n",
        "print(a ,\"\\n\")\n",
        "\n",
        "b = \"\"\"i have got peace, i have got love\n",
        "please stay! i want you i need you\n",
        "ohh god\"\"\"\n",
        "print(b)\n",
        "print(a[2])\n",
        "print(b[9])\n",
        "\n",
        "for i in \"banana\":\n",
        "  print(i)\n",
        "print(len(a))# To check the length\n",
        "print(\"apple\" in a)# To check the available string\n",
        "\n",
        "txt = \" This is the text we want tp check\"\n",
        "a = input(\"Enter the string you want to check \")\n",
        "if a in txt: # similarly if you want to check if it is not there we can use \"not in\".\n",
        "  print(\"yes \" + a + \" is present in the string\")\n",
        "else:\n",
        "  print(a + \" is not present\")\n",
        "\n",
        "#String slicing\n",
        "z = \"i miss those nights when you come over\"\n",
        "print (z[:12])# slice from the first till the required field\n",
        "print(z[12:])\n",
        "print(z[-3:-1])# slice from back with controlled condition\n",
        "\n",
        "#Upper Case\n",
        "j= \"    i could still be, i don't know anything  \"\n",
        "print(j.upper())# change to upper case\n",
        "print(j.lower())# change to lower case\n",
        "print(j.strip())# strip removes the white space from the front and the end\n",
        "print(j.replace(\"i\" ,\"lol\"))#replac particular character with another\n",
        "print(j.split(\",\"))#seperates the string where there is any instances of separator\n",
        "\n",
        "#string concantenation\n",
        "a = \"and so she said \"\n",
        "b = \"do you wanna be alone\"\n",
        "print(a + b)\n",
        "\n",
        "#Formate String\n",
        "age = input(\"Enter age: \")\n",
        "address = input(\"Enter address: \")\n",
        "service = input (\"Enter job: \")\n",
        "time = input(\"Enter years of job experience: \")\n",
        "text = \"\"\"I am a man, and i am {} years old\n",
        "I am from {}, and i have been working\n",
        "as a {} for {} years\"\"\"\n",
        "print(text.format(age, address, service, time))\n",
        "\n",
        "#Escape Character\n",
        "esp = \"I have been telling to not call me \\\"Bro\\\" for quite some time\"\n",
        "print(esp)\n"
      ],
      "metadata": {
        "id": "lNqWi2Y5Gc-B",
        "colab": {
          "base_uri": "https://localhost:8080/"
        },
        "outputId": "95a5eaa2-3838-4eea-e3aa-0080648966bc"
      },
      "execution_count": 13,
      "outputs": [
        {
          "output_type": "stream",
          "name": "stdout",
          "text": [
            "1.0 2 3\n",
            "This beautiful things i got \n",
            "\n",
            "i have got peace, i have got love\n",
            "please stay! i want you i need you\n",
            "ohh god\n",
            "i\n",
            "t\n",
            "b\n",
            "a\n",
            "n\n",
            "a\n",
            "n\n",
            "a\n",
            "27\n",
            "False\n",
            "Enter the string you want to check apple\n",
            "apple is not present\n",
            "i miss those\n",
            " nights when you come over\n",
            "ve\n",
            "    I COULD STILL BE, I DON'T KNOW ANYTHING  \n",
            "    i could still be, i don't know anything  \n",
            "i could still be, i don't know anything\n",
            "    lol could stlolll be, lol don't know anythlolng  \n",
            "['    i could still be', \" i don't know anything  \"]\n",
            "and so she said do you wanna be alone\n",
            "Enter age: 12\n",
            "Enter address: Thimphu\n",
            "Enter job: IT guy\n",
            "Enter years of job experience: 16\n",
            "I am a man, and i am 12 years old\n",
            "I am from Thimphu, and i have been working\n",
            "as a IT guy for 16 years\n",
            "I have been telling to not call me \"Bro\" for quite some time\n"
          ]
        }
      ]
    },
    {
      "cell_type": "markdown",
      "source": [
        "# ***Python Booleans and Python Operators***"
      ],
      "metadata": {
        "id": "OhVJFfU--UuH"
      }
    },
    {
      "cell_type": "code",
      "source": [
        "#Boolean Values\n",
        "#Gives the correct boolean answer\n",
        "print(9>10)\n",
        "print(10==9)\n",
        "print(10>9)\n",
        "\n",
        "#Condition based boolean\n",
        "a = input(\"Enter number: \")\n",
        "b = input(\"Enter another number: \")\n",
        "\n",
        "if a > b:\n",
        "  print( a + \" is greater than b \" + b)\n",
        "elif b > a:\n",
        "  print(b + \" is greater than \" + a)\n",
        "elif a == b:\n",
        "  print(\"They are equal\")\n",
        "\n",
        "print(bool(\"hello\")) # Any Strigs are true except for empty strings\n",
        "print(bool(5)) # Any number is true except for 0\n",
        "\n",
        "#Operators\n",
        "A = int(input(\"Enter a number: \" ))\n",
        "if (A % 2 == 0): # Use of % operator\n",
        "  print(\"Its even!\")\n",
        "else :\n",
        "  print(\"Its odd!\")\n",
        "\n",
        "\n"
      ],
      "metadata": {
        "id": "PaPIHFRZ-qIX",
        "colab": {
          "base_uri": "https://localhost:8080/"
        },
        "outputId": "daed8f4f-6a95-4053-cc1c-63d362c14c23"
      },
      "execution_count": 10,
      "outputs": [
        {
          "output_type": "stream",
          "name": "stdout",
          "text": [
            "False\n",
            "False\n",
            "True\n",
            "Enter number: 67\n",
            "Enter another number: 67\n",
            "They are equal\n",
            "True\n",
            "True\n",
            "Enter a number: 6\n",
            "Its even!\n"
          ]
        }
      ]
    }
  ]
}